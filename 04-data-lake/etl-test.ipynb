{
 "cells": [
  {
   "cell_type": "markdown",
   "id": "2b83a98c",
   "metadata": {},
   "source": [
    "## Start client"
   ]
  },
  {
   "cell_type": "code",
   "execution_count": 1,
   "id": "e38f6ab4",
   "metadata": {},
   "outputs": [
    {
     "data": {
      "application/vnd.jupyter.widget-view+json": {
       "model_id": "ea73b8927cc54efda242e1ef0e5e8372",
       "version_major": 2,
       "version_minor": 0
      },
      "text/plain": [
       "VBox()"
      ]
     },
     "metadata": {},
     "output_type": "display_data"
    },
    {
     "name": "stdout",
     "output_type": "stream",
     "text": [
      "Starting Spark application\n"
     ]
    },
    {
     "data": {
      "text/html": [
       "<table>\n",
       "<tr><th>ID</th><th>YARN Application ID</th><th>Kind</th><th>State</th><th>Spark UI</th><th>Driver log</th><th>Current session?</th></tr><tr><td>0</td><td>application_1626640459827_0001</td><td>pyspark</td><td>idle</td><td><a target=\"_blank\" href=\"http://ip-172-31-11-138.eu-west-1.compute.internal:20888/proxy/application_1626640459827_0001/\">Link</a></td><td><a target=\"_blank\" href=\"http://ip-172-31-13-164.eu-west-1.compute.internal:8042/node/containerlogs/container_1626640459827_0001_01_000001/livy\">Link</a></td><td>✔</td></tr></table>"
      ],
      "text/plain": [
       "<IPython.core.display.HTML object>"
      ]
     },
     "metadata": {},
     "output_type": "display_data"
    },
    {
     "data": {
      "application/vnd.jupyter.widget-view+json": {
       "model_id": "",
       "version_major": 2,
       "version_minor": 0
      },
      "text/plain": [
       "FloatProgress(value=0.0, bar_style='info', description='Progress:', layout=Layout(height='25px', width='50%'),…"
      ]
     },
     "metadata": {},
     "output_type": "display_data"
    },
    {
     "name": "stdout",
     "output_type": "stream",
     "text": [
      "SparkSession available as 'spark'.\n"
     ]
    },
    {
     "data": {
      "application/vnd.jupyter.widget-view+json": {
       "model_id": "",
       "version_major": 2,
       "version_minor": 0
      },
      "text/plain": [
       "FloatProgress(value=0.0, bar_style='info', description='Progress:', layout=Layout(height='25px', width='50%'),…"
      ]
     },
     "metadata": {},
     "output_type": "display_data"
    }
   ],
   "source": [
    "from pyspark.sql import SparkSession\n",
    "\n",
    "spark = SparkSession \\\n",
    "        .builder \\\n",
    "        .config(\"spark.jars.packages\", \"org.apache.hadoop:hadoop-aws:2.7.0\") \\\n",
    "    .getOrCreate()"
   ]
  },
  {
   "cell_type": "markdown",
   "id": "2fc4bc75",
   "metadata": {},
   "source": [
    "## Read dimension tables from parquet files"
   ]
  },
  {
   "cell_type": "code",
   "execution_count": 2,
   "id": "a049e459",
   "metadata": {},
   "outputs": [
    {
     "data": {
      "application/vnd.jupyter.widget-view+json": {
       "model_id": "b67e33efe3704574b78f0fd9fb9763ec",
       "version_major": 2,
       "version_minor": 0
      },
      "text/plain": [
       "VBox()"
      ]
     },
     "metadata": {},
     "output_type": "display_data"
    },
    {
     "data": {
      "application/vnd.jupyter.widget-view+json": {
       "model_id": "",
       "version_major": 2,
       "version_minor": 0
      },
      "text/plain": [
       "FloatProgress(value=0.0, bar_style='info', description='Progress:', layout=Layout(height='25px', width='50%'),…"
      ]
     },
     "metadata": {},
     "output_type": "display_data"
    }
   ],
   "source": [
    "song_df = spark.read.parquet('s3://udacity-datalake-albvt/songs.parquet')\n",
    "artist_df = spark.read.parquet('s3://udacity-datalake-albvt/artists.parquet')\n",
    "user_df = spark.read.parquet('s3://udacity-datalake-albvt/users.parquet')\n",
    "time_df = spark.read.parquet('s3://udacity-datalake-albvt/time.parquet')\n",
    "songplay_df = spark.read.parquet('s3://udacity-datalake-albvt/songplays.parquet')"
   ]
  },
  {
   "cell_type": "markdown",
   "id": "33eea194",
   "metadata": {},
   "source": [
    "## Generate views for each dimension table"
   ]
  },
  {
   "cell_type": "code",
   "execution_count": 3,
   "id": "494a922b",
   "metadata": {},
   "outputs": [
    {
     "data": {
      "application/vnd.jupyter.widget-view+json": {
       "model_id": "8a7f6917e34246e4ba51b05bc8615cf7",
       "version_major": 2,
       "version_minor": 0
      },
      "text/plain": [
       "VBox()"
      ]
     },
     "metadata": {},
     "output_type": "display_data"
    },
    {
     "data": {
      "application/vnd.jupyter.widget-view+json": {
       "model_id": "",
       "version_major": 2,
       "version_minor": 0
      },
      "text/plain": [
       "FloatProgress(value=0.0, bar_style='info', description='Progress:', layout=Layout(height='25px', width='50%'),…"
      ]
     },
     "metadata": {},
     "output_type": "display_data"
    }
   ],
   "source": [
    "song_df.createOrReplaceTempView(\"songs\")\n",
    "artist_df.createOrReplaceTempView(\"artists\")\n",
    "user_df.createOrReplaceTempView(\"users\")\n",
    "time_df.createOrReplaceTempView(\"time\")\n",
    "songplay_df.createOrReplaceTempView(\"songplays\")"
   ]
  },
  {
   "cell_type": "markdown",
   "id": "c181fec7",
   "metadata": {},
   "source": [
    "## Check tables have content"
   ]
  },
  {
   "cell_type": "code",
   "execution_count": 5,
   "id": "9ea426f3",
   "metadata": {},
   "outputs": [
    {
     "data": {
      "application/vnd.jupyter.widget-view+json": {
       "model_id": "2be8c5ea06ba4d31bd4138c42fdb9038",
       "version_major": 2,
       "version_minor": 0
      },
      "text/plain": [
       "VBox()"
      ]
     },
     "metadata": {},
     "output_type": "display_data"
    },
    {
     "data": {
      "application/vnd.jupyter.widget-view+json": {
       "model_id": "",
       "version_major": 2,
       "version_minor": 0
      },
      "text/plain": [
       "FloatProgress(value=0.0, bar_style='info', description='Progress:', layout=Layout(height='25px', width='50%'),…"
      ]
     },
     "metadata": {},
     "output_type": "display_data"
    },
    {
     "name": "stdout",
     "output_type": "stream",
     "text": [
      "+--------+\n",
      "|count(1)|\n",
      "+--------+\n",
      "|    6820|\n",
      "+--------+"
     ]
    }
   ],
   "source": [
    "spark.sql(\"SELECT COUNT(1) FROM songplays\").show()"
   ]
  },
  {
   "cell_type": "code",
   "execution_count": 6,
   "id": "e10070b9",
   "metadata": {},
   "outputs": [
    {
     "data": {
      "application/vnd.jupyter.widget-view+json": {
       "model_id": "98dd61013e8e436281e7bdd6ff73e53f",
       "version_major": 2,
       "version_minor": 0
      },
      "text/plain": [
       "VBox()"
      ]
     },
     "metadata": {},
     "output_type": "display_data"
    },
    {
     "data": {
      "application/vnd.jupyter.widget-view+json": {
       "model_id": "",
       "version_major": 2,
       "version_minor": 0
      },
      "text/plain": [
       "FloatProgress(value=0.0, bar_style='info', description='Progress:', layout=Layout(height='25px', width='50%'),…"
      ]
     },
     "metadata": {},
     "output_type": "display_data"
    },
    {
     "name": "stdout",
     "output_type": "stream",
     "text": [
      "+--------+\n",
      "|count(1)|\n",
      "+--------+\n",
      "|      96|\n",
      "+--------+"
     ]
    }
   ],
   "source": [
    "spark.sql(\"SELECT COUNT(1) FROM users\").show()"
   ]
  },
  {
   "cell_type": "code",
   "execution_count": 7,
   "id": "b9adf4f9",
   "metadata": {},
   "outputs": [
    {
     "data": {
      "application/vnd.jupyter.widget-view+json": {
       "model_id": "daea2c09468841428958f5fd89880baf",
       "version_major": 2,
       "version_minor": 0
      },
      "text/plain": [
       "VBox()"
      ]
     },
     "metadata": {},
     "output_type": "display_data"
    },
    {
     "data": {
      "application/vnd.jupyter.widget-view+json": {
       "model_id": "",
       "version_major": 2,
       "version_minor": 0
      },
      "text/plain": [
       "FloatProgress(value=0.0, bar_style='info', description='Progress:', layout=Layout(height='25px', width='50%'),…"
      ]
     },
     "metadata": {},
     "output_type": "display_data"
    },
    {
     "name": "stdout",
     "output_type": "stream",
     "text": [
      "+--------+\n",
      "|count(1)|\n",
      "+--------+\n",
      "|   14896|\n",
      "+--------+"
     ]
    }
   ],
   "source": [
    "spark.sql(\"SELECT COUNT(1) FROM songs\").show()"
   ]
  },
  {
   "cell_type": "code",
   "execution_count": 8,
   "id": "1325b27d",
   "metadata": {},
   "outputs": [
    {
     "data": {
      "application/vnd.jupyter.widget-view+json": {
       "model_id": "7ae972f9ea894119a619a80c08103e61",
       "version_major": 2,
       "version_minor": 0
      },
      "text/plain": [
       "VBox()"
      ]
     },
     "metadata": {},
     "output_type": "display_data"
    },
    {
     "data": {
      "application/vnd.jupyter.widget-view+json": {
       "model_id": "",
       "version_major": 2,
       "version_minor": 0
      },
      "text/plain": [
       "FloatProgress(value=0.0, bar_style='info', description='Progress:', layout=Layout(height='25px', width='50%'),…"
      ]
     },
     "metadata": {},
     "output_type": "display_data"
    },
    {
     "name": "stdout",
     "output_type": "stream",
     "text": [
      "+--------+\n",
      "|count(1)|\n",
      "+--------+\n",
      "|    9553|\n",
      "+--------+"
     ]
    }
   ],
   "source": [
    "spark.sql(\"SELECT COUNT(1) FROM artists\").show()"
   ]
  },
  {
   "cell_type": "code",
   "execution_count": 9,
   "id": "30daf941",
   "metadata": {},
   "outputs": [
    {
     "data": {
      "application/vnd.jupyter.widget-view+json": {
       "model_id": "e47c701f5ce14953b4d3bbab9bf2f4bc",
       "version_major": 2,
       "version_minor": 0
      },
      "text/plain": [
       "VBox()"
      ]
     },
     "metadata": {},
     "output_type": "display_data"
    },
    {
     "data": {
      "application/vnd.jupyter.widget-view+json": {
       "model_id": "",
       "version_major": 2,
       "version_minor": 0
      },
      "text/plain": [
       "FloatProgress(value=0.0, bar_style='info', description='Progress:', layout=Layout(height='25px', width='50%'),…"
      ]
     },
     "metadata": {},
     "output_type": "display_data"
    },
    {
     "name": "stdout",
     "output_type": "stream",
     "text": [
      "+--------+\n",
      "|count(1)|\n",
      "+--------+\n",
      "|    6813|\n",
      "+--------+"
     ]
    }
   ],
   "source": [
    "spark.sql(\"SELECT COUNT(1) FROM time\").show()"
   ]
  },
  {
   "cell_type": "markdown",
   "id": "cf37b919",
   "metadata": {},
   "source": [
    "## Check for duplicates"
   ]
  },
  {
   "cell_type": "code",
   "execution_count": 11,
   "id": "8322dd77",
   "metadata": {},
   "outputs": [
    {
     "data": {
      "application/vnd.jupyter.widget-view+json": {
       "model_id": "f25a63a246fd429389219462f7562fdd",
       "version_major": 2,
       "version_minor": 0
      },
      "text/plain": [
       "VBox()"
      ]
     },
     "metadata": {},
     "output_type": "display_data"
    },
    {
     "data": {
      "application/vnd.jupyter.widget-view+json": {
       "model_id": "",
       "version_major": 2,
       "version_minor": 0
      },
      "text/plain": [
       "FloatProgress(value=0.0, bar_style='info', description='Progress:', layout=Layout(height='25px', width='50%'),…"
      ]
     },
     "metadata": {},
     "output_type": "display_data"
    },
    {
     "name": "stdout",
     "output_type": "stream",
     "text": [
      "+---+-----+\n",
      "| id|count|\n",
      "+---+-----+\n",
      "+---+-----+"
     ]
    }
   ],
   "source": [
    "spark.sql(\"SELECT * FROM (SELECT id, COUNT(1) AS count FROM songs GROUP BY id) WHERE count > 1\").show()"
   ]
  },
  {
   "cell_type": "code",
   "execution_count": 12,
   "id": "0c1f4e84",
   "metadata": {},
   "outputs": [
    {
     "data": {
      "application/vnd.jupyter.widget-view+json": {
       "model_id": "8596e8d1bedb4e40827e2a41408eece5",
       "version_major": 2,
       "version_minor": 0
      },
      "text/plain": [
       "VBox()"
      ]
     },
     "metadata": {},
     "output_type": "display_data"
    },
    {
     "data": {
      "application/vnd.jupyter.widget-view+json": {
       "model_id": "",
       "version_major": 2,
       "version_minor": 0
      },
      "text/plain": [
       "FloatProgress(value=0.0, bar_style='info', description='Progress:', layout=Layout(height='25px', width='50%'),…"
      ]
     },
     "metadata": {},
     "output_type": "display_data"
    },
    {
     "name": "stdout",
     "output_type": "stream",
     "text": [
      "+---+-----+\n",
      "| id|count|\n",
      "+---+-----+\n",
      "+---+-----+"
     ]
    }
   ],
   "source": [
    "spark.sql(\"SELECT * FROM (SELECT id, COUNT(1) AS count FROM artists GROUP BY id) WHERE count > 1\").show()"
   ]
  },
  {
   "cell_type": "code",
   "execution_count": 13,
   "id": "3365a059",
   "metadata": {},
   "outputs": [
    {
     "data": {
      "application/vnd.jupyter.widget-view+json": {
       "model_id": "f4d7c876c2144f6494421c8263c12b4a",
       "version_major": 2,
       "version_minor": 0
      },
      "text/plain": [
       "VBox()"
      ]
     },
     "metadata": {},
     "output_type": "display_data"
    },
    {
     "data": {
      "application/vnd.jupyter.widget-view+json": {
       "model_id": "",
       "version_major": 2,
       "version_minor": 0
      },
      "text/plain": [
       "FloatProgress(value=0.0, bar_style='info', description='Progress:', layout=Layout(height='25px', width='50%'),…"
      ]
     },
     "metadata": {},
     "output_type": "display_data"
    },
    {
     "name": "stdout",
     "output_type": "stream",
     "text": [
      "+---+-----+\n",
      "| id|count|\n",
      "+---+-----+\n",
      "+---+-----+"
     ]
    }
   ],
   "source": [
    "spark.sql(\"SELECT * FROM (SELECT id, COUNT(1) AS count FROM users GROUP BY id) WHERE count > 1\").show()"
   ]
  },
  {
   "cell_type": "code",
   "execution_count": 14,
   "id": "9be24f36",
   "metadata": {},
   "outputs": [
    {
     "data": {
      "application/vnd.jupyter.widget-view+json": {
       "model_id": "eb64a7c082404ef58c5057c1706228b5",
       "version_major": 2,
       "version_minor": 0
      },
      "text/plain": [
       "VBox()"
      ]
     },
     "metadata": {},
     "output_type": "display_data"
    },
    {
     "data": {
      "application/vnd.jupyter.widget-view+json": {
       "model_id": "",
       "version_major": 2,
       "version_minor": 0
      },
      "text/plain": [
       "FloatProgress(value=0.0, bar_style='info', description='Progress:', layout=Layout(height='25px', width='50%'),…"
      ]
     },
     "metadata": {},
     "output_type": "display_data"
    },
    {
     "name": "stdout",
     "output_type": "stream",
     "text": [
      "+----------+-----+\n",
      "|start_time|count|\n",
      "+----------+-----+\n",
      "+----------+-----+"
     ]
    }
   ],
   "source": [
    "spark.sql(\"SELECT * FROM (SELECT start_time, COUNT(1) AS count FROM time GROUP BY start_time) WHERE count > 1\").show()"
   ]
  },
  {
   "cell_type": "code",
   "execution_count": 15,
   "id": "abf00459",
   "metadata": {},
   "outputs": [
    {
     "data": {
      "application/vnd.jupyter.widget-view+json": {
       "model_id": "dc140de6106844deac999f3c6a600009",
       "version_major": 2,
       "version_minor": 0
      },
      "text/plain": [
       "VBox()"
      ]
     },
     "metadata": {},
     "output_type": "display_data"
    },
    {
     "data": {
      "application/vnd.jupyter.widget-view+json": {
       "model_id": "",
       "version_major": 2,
       "version_minor": 0
      },
      "text/plain": [
       "FloatProgress(value=0.0, bar_style='info', description='Progress:', layout=Layout(height='25px', width='50%'),…"
      ]
     },
     "metadata": {},
     "output_type": "display_data"
    },
    {
     "name": "stdout",
     "output_type": "stream",
     "text": [
      "+---+-----+\n",
      "| id|count|\n",
      "+---+-----+\n",
      "+---+-----+"
     ]
    }
   ],
   "source": [
    "spark.sql(\"SELECT * FROM (SELECT id, COUNT(1) AS count FROM users GROUP BY id) WHERE count > 1\").show()"
   ]
  },
  {
   "cell_type": "markdown",
   "id": "11ac355e",
   "metadata": {},
   "source": [
    "## Test Queries"
   ]
  },
  {
   "cell_type": "code",
   "execution_count": 16,
   "id": "1322cda0",
   "metadata": {},
   "outputs": [
    {
     "data": {
      "application/vnd.jupyter.widget-view+json": {
       "model_id": "6eb8ebdee22e428dad05c34895d39bbe",
       "version_major": 2,
       "version_minor": 0
      },
      "text/plain": [
       "VBox()"
      ]
     },
     "metadata": {},
     "output_type": "display_data"
    },
    {
     "data": {
      "application/vnd.jupyter.widget-view+json": {
       "model_id": "",
       "version_major": 2,
       "version_minor": 0
      },
      "text/plain": [
       "FloatProgress(value=0.0, bar_style='info', description='Progress:', layout=Layout(height='25px', width='50%'),…"
      ]
     },
     "metadata": {},
     "output_type": "display_data"
    },
    {
     "name": "stdout",
     "output_type": "stream",
     "text": [
      "+-------+-----+-----+\n",
      "|user_id|level|count|\n",
      "+-------+-----+-----+\n",
      "|     49| paid|  650|\n",
      "|     80| paid|  648|\n",
      "|     97| paid|  557|\n",
      "|     15| paid|  462|\n",
      "|     44| paid|  397|\n",
      "|     29| paid|  341|\n",
      "|     24| paid|  321|\n",
      "|     73| paid|  289|\n",
      "|     88| paid|  241|\n",
      "|     36| paid|  241|\n",
      "|     95| paid|  213|\n",
      "|     16| paid|  208|\n",
      "|     85| paid|  178|\n",
      "|     30| paid|  178|\n",
      "|     25| paid|  169|\n",
      "|     42| paid|  140|\n",
      "|     58| paid|  140|\n",
      "|     26| free|  114|\n",
      "|     82| paid|   87|\n",
      "|     72| paid|   72|\n",
      "+-------+-----+-----+\n",
      "only showing top 20 rows"
     ]
    }
   ],
   "source": [
    "spark.sql(\n",
    "\"\"\"\n",
    "\tSELECT \t user_id, \n",
    "\t\t\tlevel, \n",
    "\t\t\tcount(1) AS count \n",
    "\tFROM songplays \n",
    "\tGROUP BY user_id, level ORDER BY count DESC\n",
    "\"\"\"\n",
    ").show()"
   ]
  },
  {
   "cell_type": "code",
   "execution_count": 17,
   "id": "7ae9fc4f",
   "metadata": {},
   "outputs": [
    {
     "data": {
      "application/vnd.jupyter.widget-view+json": {
       "model_id": "89cad9de604944e7bfda0ffcfc49130a",
       "version_major": 2,
       "version_minor": 0
      },
      "text/plain": [
       "VBox()"
      ]
     },
     "metadata": {},
     "output_type": "display_data"
    },
    {
     "data": {
      "application/vnd.jupyter.widget-view+json": {
       "model_id": "",
       "version_major": 2,
       "version_minor": 0
      },
      "text/plain": [
       "FloatProgress(value=0.0, bar_style='info', description='Progress:', layout=Layout(height='25px', width='50%'),…"
      ]
     },
     "metadata": {},
     "output_type": "display_data"
    },
    {
     "name": "stdout",
     "output_type": "stream",
     "text": [
      "+-----+--------+\n",
      "|level|count(1)|\n",
      "+-----+--------+\n",
      "| paid|    5591|\n",
      "| free|    1229|\n",
      "+-----+--------+"
     ]
    }
   ],
   "source": [
    "spark.sql(\n",
    "\"\"\"\n",
    "\tSELECT   level, \n",
    "\t\t\tcount(1) FROM songplays \n",
    "\tGROUP BY level \n",
    "\tORDER BY level DESC\n",
    "\"\"\"\n",
    ").show()"
   ]
  },
  {
   "cell_type": "code",
   "execution_count": 18,
   "id": "a9613303",
   "metadata": {},
   "outputs": [
    {
     "data": {
      "application/vnd.jupyter.widget-view+json": {
       "model_id": "02949456744245feaa49c92694ad3de7",
       "version_major": 2,
       "version_minor": 0
      },
      "text/plain": [
       "VBox()"
      ]
     },
     "metadata": {},
     "output_type": "display_data"
    },
    {
     "data": {
      "application/vnd.jupyter.widget-view+json": {
       "model_id": "",
       "version_major": 2,
       "version_minor": 0
      },
      "text/plain": [
       "FloatProgress(value=0.0, bar_style='info', description='Progress:', layout=Layout(height='25px', width='50%'),…"
      ]
     },
     "metadata": {},
     "output_type": "display_data"
    },
    {
     "name": "stdout",
     "output_type": "stream",
     "text": [
      "+----------+---------+-----+\n",
      "|first_name|last_name|count|\n",
      "+----------+---------+-----+\n",
      "|     Chloe|   Cuevas|  689|\n",
      "|     Tegan|   Levine|  665|\n",
      "|      Kate|  Harrell|  557|\n",
      "|      Lily|     Koch|  463|\n",
      "|    Aleena|    Kirby|  397|\n",
      "+----------+---------+-----+"
     ]
    }
   ],
   "source": [
    "spark.sql(\n",
    "\"\"\"\n",
    "\tSELECT \tusers.first_name, \n",
    "\t\t\tusers.last_name, \n",
    "\t\t\tcount(1) AS count \n",
    "\tFROM songplays \n",
    "\tJOIN users ON songplays.user_id = users.id \n",
    "\tGROUP BY users.first_name, users.last_name \n",
    "\tORDER BY count DESC \n",
    "\tLIMIT 5\n",
    "\"\"\").show()"
   ]
  },
  {
   "cell_type": "code",
   "execution_count": 19,
   "id": "5704fbbe",
   "metadata": {},
   "outputs": [
    {
     "data": {
      "application/vnd.jupyter.widget-view+json": {
       "model_id": "373fe15a8d4a4ce6aa353d820aa4694c",
       "version_major": 2,
       "version_minor": 0
      },
      "text/plain": [
       "VBox()"
      ]
     },
     "metadata": {},
     "output_type": "display_data"
    },
    {
     "data": {
      "application/vnd.jupyter.widget-view+json": {
       "model_id": "",
       "version_major": 2,
       "version_minor": 0
      },
      "text/plain": [
       "FloatProgress(value=0.0, bar_style='info', description='Progress:', layout=Layout(height='25px', width='50%'),…"
      ]
     },
     "metadata": {},
     "output_type": "display_data"
    },
    {
     "name": "stdout",
     "output_type": "stream",
     "text": [
      "+-------------+-----+\n",
      "|  artist_name|count|\n",
      "+-------------+-----+\n",
      "|Dwight Yoakam|   37|\n",
      "|   Ron Carter|    9|\n",
      "|Lonnie Gordon|    9|\n",
      "|        B.o.B|    8|\n",
      "|         Muse|    6|\n",
      "+-------------+-----+"
     ]
    }
   ],
   "source": [
    "spark.sql(\n",
    "\"\"\"\n",
    "\tSELECT   artists.name AS artist_name, \n",
    "\t\t\tcount(1) AS count \n",
    "\tFROM songplays \n",
    "\tJOIN artists ON songplays.artist_id = artists.id \n",
    "\tGROUP BY artist_name \n",
    "\tORDER BY count DESC \n",
    "\tLIMIT 5\n",
    "\"\"\"\n",
    ").show()"
   ]
  },
  {
   "cell_type": "code",
   "execution_count": 20,
   "id": "a05e3077",
   "metadata": {},
   "outputs": [
    {
     "data": {
      "application/vnd.jupyter.widget-view+json": {
       "model_id": "738bc398df8f4300b8ed2c9c1ebf6b4d",
       "version_major": 2,
       "version_minor": 0
      },
      "text/plain": [
       "VBox()"
      ]
     },
     "metadata": {},
     "output_type": "display_data"
    },
    {
     "data": {
      "application/vnd.jupyter.widget-view+json": {
       "model_id": "",
       "version_major": 2,
       "version_minor": 0
      },
      "text/plain": [
       "FloatProgress(value=0.0, bar_style='info', description='Progress:', layout=Layout(height='25px', width='50%'),…"
      ]
     },
     "metadata": {},
     "output_type": "display_data"
    },
    {
     "name": "stdout",
     "output_type": "stream",
     "text": [
      "+--------------------+--------------------+-----+\n",
      "|         artist_name|               title|count|\n",
      "+--------------------+--------------------+-----+\n",
      "|       Dwight Yoakam|      You're The One|   37|\n",
      "|       Lonnie Gordon|Catch You Baby (S...|    9|\n",
      "|          Ron Carter| I CAN'T GET STARTED|    9|\n",
      "|               B.o.B|Nothin' On You [f...|    8|\n",
      "|               Usher|Hey Daddy (Daddy'...|    6|\n",
      "|Kid Cudi / Kanye ...|        Make Her Say|    5|\n",
      "|     matchbox twenty|Unwell (Album Ver...|    4|\n",
      "|      Counting Crows|           Mr. Jones|    4|\n",
      "|                Muse|Supermassive Blac...|    4|\n",
      "|              Fisher|              Rianna|    3|\n",
      "+--------------------+--------------------+-----+"
     ]
    }
   ],
   "source": [
    "spark.sql(\n",
    "\"\"\"\n",
    "\tSELECT   artists.name AS artist_name, \n",
    "\t\t\tsongs.title, \n",
    "\t\t\tcount(1) as count FROM songplays \n",
    "\t\t\tJOIN artists ON songplays.artist_id = artists.id \n",
    "\t\t\tJOIN songs ON songplays.song_id = songs.id \n",
    "\t\t\tGROUP BY artists.name, songs.title \n",
    "\t\t\tORDER BY count DESC \n",
    "\t\t\tLIMIT 10\n",
    "\"\"\"\n",
    ").show()"
   ]
  },
  {
   "cell_type": "code",
   "execution_count": 21,
   "id": "aea56fae",
   "metadata": {},
   "outputs": [
    {
     "data": {
      "application/vnd.jupyter.widget-view+json": {
       "model_id": "1eec326c01954f40b0d72f78e2e53c81",
       "version_major": 2,
       "version_minor": 0
      },
      "text/plain": [
       "VBox()"
      ]
     },
     "metadata": {},
     "output_type": "display_data"
    },
    {
     "data": {
      "application/vnd.jupyter.widget-view+json": {
       "model_id": "",
       "version_major": 2,
       "version_minor": 0
      },
      "text/plain": [
       "FloatProgress(value=0.0, bar_style='info', description='Progress:', layout=Layout(height='25px', width='50%'),…"
      ]
     },
     "metadata": {},
     "output_type": "display_data"
    },
    {
     "name": "stdout",
     "output_type": "stream",
     "text": [
      "+----+-----+\n",
      "|hour|count|\n",
      "+----+-----+\n",
      "|  16|  542|\n",
      "|  18|  498|\n",
      "|  17|  494|\n",
      "|  15|  477|\n",
      "|  14|  432|\n",
      "+----+-----+"
     ]
    }
   ],
   "source": [
    "spark.sql(\n",
    "\"\"\"\n",
    "\tSELECT time.hour, \n",
    "\tcount(1) AS count FROM songplays \n",
    "\tJOIN time ON songplays.start_time = time.start_time \n",
    "\tGROUP BY time.hour \n",
    "\tORDER BY count DESC \n",
    "\tLIMIT 5\n",
    "\"\"\").show()"
   ]
  }
 ],
 "metadata": {
  "kernelspec": {
   "display_name": "PySpark",
   "language": "",
   "name": "pysparkkernel"
  },
  "language_info": {
   "codemirror_mode": {
    "name": "python",
    "version": 2
   },
   "mimetype": "text/x-python",
   "name": "pyspark",
   "pygments_lexer": "python2"
  }
 },
 "nbformat": 4,
 "nbformat_minor": 5
}
